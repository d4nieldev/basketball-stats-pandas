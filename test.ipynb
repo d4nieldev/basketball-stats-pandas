{
 "cells": [
  {
   "cell_type": "markdown",
   "metadata": {},
   "source": [
    "# Playing with data"
   ]
  },
  {
   "cell_type": "markdown",
   "metadata": {},
   "source": [
    "read data from csv"
   ]
  },
  {
   "cell_type": "code",
   "execution_count": 91,
   "metadata": {
    "pycharm": {
     "is_executing": true
    }
   },
   "outputs": [],
   "source": [
    "import pandas as pd\n",
    "df_season = pd.read_csv(\"static/data/NBA_season.csv\")\n",
    "df_season = df_season[df_season.columns.tolist()[1:]]\n",
    "df_playoffs = pd.read_csv(\"static/data/NBA_playoffs.csv\")\n",
    "df_playoffs= df_playoffs[df_playoffs.columns.tolist()[1:]]"
   ]
  },
  {
   "cell_type": "markdown",
   "metadata": {},
   "source": [
    "## Calculate average stats by pos"
   ]
  },
  {
   "cell_type": "code",
   "execution_count": 9,
   "metadata": {},
   "outputs": [],
   "source": [
    "group = df_season[(df_season['Year'] >= 1980) & (df_season['MP'] >= 20)].groupby('Pos')\n",
    "\n",
    "df_avg_stats_by_pos_mixed = group[[\"AST\", \"PTS\", \"TOV\", \"BLK\", \"STL\", \"ORB\", \"DRB\"]].mean()\n",
    "df_avg_stats_by_pos = df_avg_stats_by_pos_mixed.loc[['PF', 'C', 'PG', 'SF', 'SG']]\n",
    "df_count_by_pos = group['id'].count()"
   ]
  },
  {
   "cell_type": "code",
   "execution_count": 10,
   "metadata": {
    "pycharm": {
     "name": "#%%\n"
    }
   },
   "outputs": [],
   "source": [
    "count_by_pos = {\n",
    "    'C': df_count_by_pos.loc['C'],\n",
    "    'PF': df_count_by_pos.loc['PF'],\n",
    "    'PG': df_count_by_pos.loc['PG'],\n",
    "    'SF': df_count_by_pos.loc['SF'],\n",
    "    'SG': df_count_by_pos.loc['SG'],\n",
    "}\n",
    "\n",
    "for pos, row in df_avg_stats_by_pos_mixed.iterrows():\n",
    "    if pos not in ['PF', 'C', 'PG', 'SF', 'SG']:\n",
    "        # get amount of players with this mixed position\n",
    "        amount_mixed = df_count_by_pos.loc[pos]\n",
    "\n",
    "        # get the sum of the mixed stats for each stat\n",
    "        stats = []\n",
    "        for stat in row:\n",
    "            stats.append(stat * amount_mixed)\n",
    "\n",
    "        # for each position, add avg to position\n",
    "        for p in pos.split(','):\n",
    "            p = p.strip()\n",
    "            amount_pure = count_by_pos[p]\n",
    "\n",
    "            # get average stats for this pure pos\n",
    "            pos_row = df_avg_stats_by_pos.loc[p]\n",
    "            for i in range(len(stats)):\n",
    "                # create new weighted arithmetic mean\n",
    "                new_stat = (pos_row[i] * amount_pure + stats[i]) / (amount_pure + amount_mixed)\n",
    "                pos_row[i] = new_stat\n",
    "\n",
    "            # update amount for this pos\n",
    "            count_by_pos[p] += amount_mixed"
   ]
  },
  {
   "cell_type": "code",
   "execution_count": 11,
   "metadata": {
    "pycharm": {
     "name": "#%%\n"
    }
   },
   "outputs": [
    {
     "data": {
      "text/html": [
       "<div>\n",
       "<style scoped>\n",
       "    .dataframe tbody tr th:only-of-type {\n",
       "        vertical-align: middle;\n",
       "    }\n",
       "\n",
       "    .dataframe tbody tr th {\n",
       "        vertical-align: top;\n",
       "    }\n",
       "\n",
       "    .dataframe thead th {\n",
       "        text-align: right;\n",
       "    }\n",
       "</style>\n",
       "<table border=\"1\" class=\"dataframe\">\n",
       "  <thead>\n",
       "    <tr style=\"text-align: right;\">\n",
       "      <th></th>\n",
       "      <th>AST</th>\n",
       "      <th>PTS</th>\n",
       "      <th>TOV</th>\n",
       "      <th>BLK</th>\n",
       "      <th>STL</th>\n",
       "      <th>ORB</th>\n",
       "      <th>DRB</th>\n",
       "    </tr>\n",
       "    <tr>\n",
       "      <th>Pos</th>\n",
       "      <th></th>\n",
       "      <th></th>\n",
       "      <th></th>\n",
       "      <th></th>\n",
       "      <th></th>\n",
       "      <th></th>\n",
       "      <th></th>\n",
       "    </tr>\n",
       "  </thead>\n",
       "  <tbody>\n",
       "    <tr>\n",
       "      <th>PF</th>\n",
       "      <td>1.949051</td>\n",
       "      <td>13.090512</td>\n",
       "      <td>1.768501</td>\n",
       "      <td>0.792694</td>\n",
       "      <td>0.848292</td>\n",
       "      <td>2.149146</td>\n",
       "      <td>5.082638</td>\n",
       "    </tr>\n",
       "    <tr>\n",
       "      <th>C</th>\n",
       "      <td>1.637459</td>\n",
       "      <td>12.275679</td>\n",
       "      <td>1.771553</td>\n",
       "      <td>1.434745</td>\n",
       "      <td>0.707383</td>\n",
       "      <td>2.469707</td>\n",
       "      <td>5.542997</td>\n",
       "    </tr>\n",
       "    <tr>\n",
       "      <th>PG</th>\n",
       "      <td>5.697905</td>\n",
       "      <td>12.883524</td>\n",
       "      <td>2.184571</td>\n",
       "      <td>0.198571</td>\n",
       "      <td>1.284857</td>\n",
       "      <td>0.674095</td>\n",
       "      <td>2.477524</td>\n",
       "    </tr>\n",
       "    <tr>\n",
       "      <th>SF</th>\n",
       "      <td>2.516463</td>\n",
       "      <td>14.219003</td>\n",
       "      <td>1.799059</td>\n",
       "      <td>0.504610</td>\n",
       "      <td>1.034807</td>\n",
       "      <td>1.398589</td>\n",
       "      <td>3.579210</td>\n",
       "    </tr>\n",
       "    <tr>\n",
       "      <th>SG</th>\n",
       "      <td>3.156130</td>\n",
       "      <td>14.305517</td>\n",
       "      <td>1.815937</td>\n",
       "      <td>0.308581</td>\n",
       "      <td>1.099650</td>\n",
       "      <td>0.859370</td>\n",
       "      <td>2.641856</td>\n",
       "    </tr>\n",
       "  </tbody>\n",
       "</table>\n",
       "</div>"
      ],
      "text/plain": [
       "          AST        PTS       TOV       BLK       STL       ORB       DRB\n",
       "Pos                                                                       \n",
       "PF   1.949051  13.090512  1.768501  0.792694  0.848292  2.149146  5.082638\n",
       "C    1.637459  12.275679  1.771553  1.434745  0.707383  2.469707  5.542997\n",
       "PG   5.697905  12.883524  2.184571  0.198571  1.284857  0.674095  2.477524\n",
       "SF   2.516463  14.219003  1.799059  0.504610  1.034807  1.398589  3.579210\n",
       "SG   3.156130  14.305517  1.815937  0.308581  1.099650  0.859370  2.641856"
      ]
     },
     "execution_count": 11,
     "metadata": {},
     "output_type": "execute_result"
    }
   ],
   "source": [
    "df_avg_stats_by_pos"
   ]
  },
  {
   "cell_type": "markdown",
   "metadata": {},
   "source": [
    "## Calculate player score for season and playoffs"
   ]
  },
  {
   "cell_type": "markdown",
   "metadata": {},
   "source": [
    "option 1 - best year of the player"
   ]
  },
  {
   "cell_type": "code",
   "execution_count": 93,
   "metadata": {
    "pycharm": {
     "name": "#%%\n"
    }
   },
   "outputs": [],
   "source": [
    "def get_best_year(df):\n",
    "    ser = df.groupby(['id'])['score2'].max()\n",
    "    d = {}\n",
    "    for key, value in ser.iteritems():\n",
    "        entry = df[(df['id'] == key) & (df['score2'] == value)].iloc[0]\n",
    "        d[key] = [entry['Name'], entry['Year'], entry['score2']]\n",
    "\n",
    "    return pd.DataFrame.from_dict(d, orient=\"index\", columns=['Name', 'Year', 'score2']).sort_values(by=\"score2\", ascending=False)"
   ]
  },
  {
   "cell_type": "markdown",
   "metadata": {},
   "source": [
    "option 2 - average of last max 4 years"
   ]
  },
  {
   "cell_type": "code",
   "execution_count": 94,
   "metadata": {
    "pycharm": {
     "name": "#%%\n"
    }
   },
   "outputs": [],
   "source": [
    "def get_best_4_years(df):\n",
    "    rows = {}\n",
    "\n",
    "    for player in df['id'].unique():\n",
    "        df_player = df[df['id'] == player].sort_values(by='score2', ascending=False).head(4)\n",
    "        avg = df_player['score2'].mean()\n",
    "\n",
    "        rows[player] = [df_player.iloc[0]['Name'], list(df_player['Year'].sort_values()), avg]\n",
    "\n",
    "    best4 = pd.DataFrame().from_dict(rows, orient='index', columns=['Name', 'Years', 'score2']).sort_values(by='score2', ascending=False)\n",
    "    best4.index.name = 'id'\n",
    "    return best4"
   ]
  },
  {
   "cell_type": "code",
   "execution_count": 97,
   "metadata": {},
   "outputs": [
    {
     "data": {
      "text/plain": [
       "Name                Michael Jordan\n",
       "Years     [1986, 1989, 1990, 1991]\n",
       "score2                   31.431289\n",
       "Name: jordami01, dtype: object"
      ]
     },
     "execution_count": 97,
     "metadata": {},
     "output_type": "execute_result"
    }
   ],
   "source": [
    "get_best_4_years(df_playoffs).loc['jordami01']"
   ]
  },
  {
   "cell_type": "code",
   "execution_count": 114,
   "metadata": {
    "pycharm": {
     "name": "#%%\n"
    }
   },
   "outputs": [
    {
     "name": "stdout",
     "output_type": "stream",
     "text": [
      "before\n",
      "after\n",
      "before\n",
      "after\n"
     ]
    },
    {
     "ename": "KeyboardInterrupt",
     "evalue": "",
     "output_type": "error",
     "traceback": [
      "\u001B[1;31m---------------------------------------------------------------------------\u001B[0m",
      "\u001B[1;31mKeyboardInterrupt\u001B[0m                         Traceback (most recent call last)",
      "Input \u001B[1;32mIn [114]\u001B[0m, in \u001B[0;36m<module>\u001B[1;34m\u001B[0m\n\u001B[0;32m     10\u001B[0m     \u001B[38;5;28;01mreturn\u001B[39;00m avg\n\u001B[0;32m     12\u001B[0m con \u001B[38;5;241m=\u001B[39m get_best_year(df_season)\n\u001B[1;32m---> 13\u001B[0m con[\u001B[38;5;124m'\u001B[39m\u001B[38;5;124mavg\u001B[39m\u001B[38;5;124m'\u001B[39m] \u001B[38;5;241m=\u001B[39m \u001B[43mcon\u001B[49m\u001B[38;5;241;43m.\u001B[39;49m\u001B[43mapply\u001B[49m\u001B[43m(\u001B[49m\u001B[43mconcat_avg_to_4years_playoff\u001B[49m\u001B[43m,\u001B[49m\u001B[43m \u001B[49m\u001B[43maxis\u001B[49m\u001B[38;5;241;43m=\u001B[39;49m\u001B[38;5;241;43m1\u001B[39;49m\u001B[43m)\u001B[49m\n",
      "File \u001B[1;32md:\\pycharm projects\\basketball-stats project\\.venv\\lib\\site-packages\\pandas\\core\\frame.py:8827\u001B[0m, in \u001B[0;36mDataFrame.apply\u001B[1;34m(self, func, axis, raw, result_type, args, **kwargs)\u001B[0m\n\u001B[0;32m   8816\u001B[0m \u001B[38;5;28;01mfrom\u001B[39;00m \u001B[38;5;21;01mpandas\u001B[39;00m\u001B[38;5;21;01m.\u001B[39;00m\u001B[38;5;21;01mcore\u001B[39;00m\u001B[38;5;21;01m.\u001B[39;00m\u001B[38;5;21;01mapply\u001B[39;00m \u001B[38;5;28;01mimport\u001B[39;00m frame_apply\n\u001B[0;32m   8818\u001B[0m op \u001B[38;5;241m=\u001B[39m frame_apply(\n\u001B[0;32m   8819\u001B[0m     \u001B[38;5;28mself\u001B[39m,\n\u001B[0;32m   8820\u001B[0m     func\u001B[38;5;241m=\u001B[39mfunc,\n\u001B[1;32m   (...)\u001B[0m\n\u001B[0;32m   8825\u001B[0m     kwargs\u001B[38;5;241m=\u001B[39mkwargs,\n\u001B[0;32m   8826\u001B[0m )\n\u001B[1;32m-> 8827\u001B[0m \u001B[38;5;28;01mreturn\u001B[39;00m \u001B[43mop\u001B[49m\u001B[38;5;241;43m.\u001B[39;49m\u001B[43mapply\u001B[49m\u001B[43m(\u001B[49m\u001B[43m)\u001B[49m\u001B[38;5;241m.\u001B[39m__finalize__(\u001B[38;5;28mself\u001B[39m, method\u001B[38;5;241m=\u001B[39m\u001B[38;5;124m\"\u001B[39m\u001B[38;5;124mapply\u001B[39m\u001B[38;5;124m\"\u001B[39m)\n",
      "File \u001B[1;32md:\\pycharm projects\\basketball-stats project\\.venv\\lib\\site-packages\\pandas\\core\\apply.py:727\u001B[0m, in \u001B[0;36mFrameApply.apply\u001B[1;34m(self)\u001B[0m\n\u001B[0;32m    724\u001B[0m \u001B[38;5;28;01melif\u001B[39;00m \u001B[38;5;28mself\u001B[39m\u001B[38;5;241m.\u001B[39mraw:\n\u001B[0;32m    725\u001B[0m     \u001B[38;5;28;01mreturn\u001B[39;00m \u001B[38;5;28mself\u001B[39m\u001B[38;5;241m.\u001B[39mapply_raw()\n\u001B[1;32m--> 727\u001B[0m \u001B[38;5;28;01mreturn\u001B[39;00m \u001B[38;5;28;43mself\u001B[39;49m\u001B[38;5;241;43m.\u001B[39;49m\u001B[43mapply_standard\u001B[49m\u001B[43m(\u001B[49m\u001B[43m)\u001B[49m\n",
      "File \u001B[1;32md:\\pycharm projects\\basketball-stats project\\.venv\\lib\\site-packages\\pandas\\core\\apply.py:851\u001B[0m, in \u001B[0;36mFrameApply.apply_standard\u001B[1;34m(self)\u001B[0m\n\u001B[0;32m    850\u001B[0m \u001B[38;5;28;01mdef\u001B[39;00m \u001B[38;5;21mapply_standard\u001B[39m(\u001B[38;5;28mself\u001B[39m):\n\u001B[1;32m--> 851\u001B[0m     results, res_index \u001B[38;5;241m=\u001B[39m \u001B[38;5;28;43mself\u001B[39;49m\u001B[38;5;241;43m.\u001B[39;49m\u001B[43mapply_series_generator\u001B[49m\u001B[43m(\u001B[49m\u001B[43m)\u001B[49m\n\u001B[0;32m    853\u001B[0m     \u001B[38;5;66;03m# wrap results\u001B[39;00m\n\u001B[0;32m    854\u001B[0m     \u001B[38;5;28;01mreturn\u001B[39;00m \u001B[38;5;28mself\u001B[39m\u001B[38;5;241m.\u001B[39mwrap_results(results, res_index)\n",
      "File \u001B[1;32md:\\pycharm projects\\basketball-stats project\\.venv\\lib\\site-packages\\pandas\\core\\apply.py:867\u001B[0m, in \u001B[0;36mFrameApply.apply_series_generator\u001B[1;34m(self)\u001B[0m\n\u001B[0;32m    864\u001B[0m \u001B[38;5;28;01mwith\u001B[39;00m option_context(\u001B[38;5;124m\"\u001B[39m\u001B[38;5;124mmode.chained_assignment\u001B[39m\u001B[38;5;124m\"\u001B[39m, \u001B[38;5;28;01mNone\u001B[39;00m):\n\u001B[0;32m    865\u001B[0m     \u001B[38;5;28;01mfor\u001B[39;00m i, v \u001B[38;5;129;01min\u001B[39;00m \u001B[38;5;28menumerate\u001B[39m(series_gen):\n\u001B[0;32m    866\u001B[0m         \u001B[38;5;66;03m# ignore SettingWithCopy here in case the user mutates\u001B[39;00m\n\u001B[1;32m--> 867\u001B[0m         results[i] \u001B[38;5;241m=\u001B[39m \u001B[38;5;28;43mself\u001B[39;49m\u001B[38;5;241;43m.\u001B[39;49m\u001B[43mf\u001B[49m\u001B[43m(\u001B[49m\u001B[43mv\u001B[49m\u001B[43m)\u001B[49m\n\u001B[0;32m    868\u001B[0m         \u001B[38;5;28;01mif\u001B[39;00m \u001B[38;5;28misinstance\u001B[39m(results[i], ABCSeries):\n\u001B[0;32m    869\u001B[0m             \u001B[38;5;66;03m# If we have a view on v, we need to make a copy because\u001B[39;00m\n\u001B[0;32m    870\u001B[0m             \u001B[38;5;66;03m#  series_generator will swap out the underlying data\u001B[39;00m\n\u001B[0;32m    871\u001B[0m             results[i] \u001B[38;5;241m=\u001B[39m results[i]\u001B[38;5;241m.\u001B[39mcopy(deep\u001B[38;5;241m=\u001B[39m\u001B[38;5;28;01mFalse\u001B[39;00m)\n",
      "Input \u001B[1;32mIn [114]\u001B[0m, in \u001B[0;36mconcat_avg_to_4years_playoff\u001B[1;34m(row)\u001B[0m\n\u001B[0;32m      2\u001B[0m \u001B[38;5;28;01mdef\u001B[39;00m \u001B[38;5;21mconcat_avg_to_4years_playoff\u001B[39m(row):\n\u001B[1;32m----> 3\u001B[0m     best4_playoffs \u001B[38;5;241m=\u001B[39m \u001B[43mget_best_4_years\u001B[49m\u001B[43m(\u001B[49m\u001B[43mdf_playoffs\u001B[49m\u001B[43m)\u001B[49m\n\u001B[0;32m      4\u001B[0m     \u001B[38;5;28mprint\u001B[39m(\u001B[38;5;124m\"\u001B[39m\u001B[38;5;124mbefore\u001B[39m\u001B[38;5;124m\"\u001B[39m)\n\u001B[0;32m      5\u001B[0m     \u001B[38;5;28;01mif\u001B[39;00m row\u001B[38;5;241m.\u001B[39mname \u001B[38;5;129;01min\u001B[39;00m best4_playoffs\u001B[38;5;241m.\u001B[39mindex:\n",
      "Input \u001B[1;32mIn [94]\u001B[0m, in \u001B[0;36mget_best_4_years\u001B[1;34m(df)\u001B[0m\n\u001B[0;32m      5\u001B[0m     df_player \u001B[38;5;241m=\u001B[39m df[df[\u001B[38;5;124m'\u001B[39m\u001B[38;5;124mid\u001B[39m\u001B[38;5;124m'\u001B[39m] \u001B[38;5;241m==\u001B[39m player]\u001B[38;5;241m.\u001B[39msort_values(by\u001B[38;5;241m=\u001B[39m\u001B[38;5;124m'\u001B[39m\u001B[38;5;124mscore2\u001B[39m\u001B[38;5;124m'\u001B[39m, ascending\u001B[38;5;241m=\u001B[39m\u001B[38;5;28;01mFalse\u001B[39;00m)\u001B[38;5;241m.\u001B[39mhead(\u001B[38;5;241m4\u001B[39m)\n\u001B[0;32m      6\u001B[0m     avg \u001B[38;5;241m=\u001B[39m df_player[\u001B[38;5;124m'\u001B[39m\u001B[38;5;124mscore2\u001B[39m\u001B[38;5;124m'\u001B[39m]\u001B[38;5;241m.\u001B[39mmean()\n\u001B[1;32m----> 8\u001B[0m     rows[player] \u001B[38;5;241m=\u001B[39m [df_player\u001B[38;5;241m.\u001B[39miloc[\u001B[38;5;241m0\u001B[39m][\u001B[38;5;124m'\u001B[39m\u001B[38;5;124mName\u001B[39m\u001B[38;5;124m'\u001B[39m], \u001B[38;5;28mlist\u001B[39m(\u001B[43mdf_player\u001B[49m\u001B[43m[\u001B[49m\u001B[38;5;124;43m'\u001B[39;49m\u001B[38;5;124;43mYear\u001B[39;49m\u001B[38;5;124;43m'\u001B[39;49m\u001B[43m]\u001B[49m\u001B[38;5;241;43m.\u001B[39;49m\u001B[43msort_values\u001B[49m\u001B[43m(\u001B[49m\u001B[43m)\u001B[49m), avg]\n\u001B[0;32m     10\u001B[0m best4 \u001B[38;5;241m=\u001B[39m pd\u001B[38;5;241m.\u001B[39mDataFrame()\u001B[38;5;241m.\u001B[39mfrom_dict(rows, orient\u001B[38;5;241m=\u001B[39m\u001B[38;5;124m'\u001B[39m\u001B[38;5;124mindex\u001B[39m\u001B[38;5;124m'\u001B[39m, columns\u001B[38;5;241m=\u001B[39m[\u001B[38;5;124m'\u001B[39m\u001B[38;5;124mName\u001B[39m\u001B[38;5;124m'\u001B[39m, \u001B[38;5;124m'\u001B[39m\u001B[38;5;124mYears\u001B[39m\u001B[38;5;124m'\u001B[39m, \u001B[38;5;124m'\u001B[39m\u001B[38;5;124mscore2\u001B[39m\u001B[38;5;124m'\u001B[39m])\u001B[38;5;241m.\u001B[39msort_values(by\u001B[38;5;241m=\u001B[39m\u001B[38;5;124m'\u001B[39m\u001B[38;5;124mscore2\u001B[39m\u001B[38;5;124m'\u001B[39m, ascending\u001B[38;5;241m=\u001B[39m\u001B[38;5;28;01mFalse\u001B[39;00m)\n\u001B[0;32m     11\u001B[0m best4\u001B[38;5;241m.\u001B[39mindex\u001B[38;5;241m.\u001B[39mname \u001B[38;5;241m=\u001B[39m \u001B[38;5;124m'\u001B[39m\u001B[38;5;124mid\u001B[39m\u001B[38;5;124m'\u001B[39m\n",
      "File \u001B[1;32md:\\pycharm projects\\basketball-stats project\\.venv\\lib\\site-packages\\pandas\\util\\_decorators.py:311\u001B[0m, in \u001B[0;36mdeprecate_nonkeyword_arguments.<locals>.decorate.<locals>.wrapper\u001B[1;34m(*args, **kwargs)\u001B[0m\n\u001B[0;32m    305\u001B[0m \u001B[38;5;28;01mif\u001B[39;00m \u001B[38;5;28mlen\u001B[39m(args) \u001B[38;5;241m>\u001B[39m num_allow_args:\n\u001B[0;32m    306\u001B[0m     warnings\u001B[38;5;241m.\u001B[39mwarn(\n\u001B[0;32m    307\u001B[0m         msg\u001B[38;5;241m.\u001B[39mformat(arguments\u001B[38;5;241m=\u001B[39marguments),\n\u001B[0;32m    308\u001B[0m         \u001B[38;5;167;01mFutureWarning\u001B[39;00m,\n\u001B[0;32m    309\u001B[0m         stacklevel\u001B[38;5;241m=\u001B[39mstacklevel,\n\u001B[0;32m    310\u001B[0m     )\n\u001B[1;32m--> 311\u001B[0m \u001B[38;5;28;01mreturn\u001B[39;00m func(\u001B[38;5;241m*\u001B[39margs, \u001B[38;5;241m*\u001B[39m\u001B[38;5;241m*\u001B[39mkwargs)\n",
      "File \u001B[1;32md:\\pycharm projects\\basketball-stats project\\.venv\\lib\\site-packages\\pandas\\core\\series.py:3529\u001B[0m, in \u001B[0;36mSeries.sort_values\u001B[1;34m(self, axis, ascending, inplace, kind, na_position, ignore_index, key)\u001B[0m\n\u001B[0;32m   3527\u001B[0m \u001B[38;5;66;03m# GH 35922. Make sorting stable by leveraging nargsort\u001B[39;00m\n\u001B[0;32m   3528\u001B[0m values_to_sort \u001B[38;5;241m=\u001B[39m ensure_key_mapped(\u001B[38;5;28mself\u001B[39m, key)\u001B[38;5;241m.\u001B[39m_values \u001B[38;5;28;01mif\u001B[39;00m key \u001B[38;5;28;01melse\u001B[39;00m \u001B[38;5;28mself\u001B[39m\u001B[38;5;241m.\u001B[39m_values\n\u001B[1;32m-> 3529\u001B[0m sorted_index \u001B[38;5;241m=\u001B[39m \u001B[43mnargsort\u001B[49m\u001B[43m(\u001B[49m\u001B[43mvalues_to_sort\u001B[49m\u001B[43m,\u001B[49m\u001B[43m \u001B[49m\u001B[43mkind\u001B[49m\u001B[43m,\u001B[49m\u001B[43m \u001B[49m\u001B[38;5;28;43mbool\u001B[39;49m\u001B[43m(\u001B[49m\u001B[43mascending\u001B[49m\u001B[43m)\u001B[49m\u001B[43m,\u001B[49m\u001B[43m \u001B[49m\u001B[43mna_position\u001B[49m\u001B[43m)\u001B[49m\n\u001B[0;32m   3531\u001B[0m result \u001B[38;5;241m=\u001B[39m \u001B[38;5;28mself\u001B[39m\u001B[38;5;241m.\u001B[39m_constructor(\n\u001B[0;32m   3532\u001B[0m     \u001B[38;5;28mself\u001B[39m\u001B[38;5;241m.\u001B[39m_values[sorted_index], index\u001B[38;5;241m=\u001B[39m\u001B[38;5;28mself\u001B[39m\u001B[38;5;241m.\u001B[39mindex[sorted_index]\n\u001B[0;32m   3533\u001B[0m )\n\u001B[0;32m   3535\u001B[0m \u001B[38;5;28;01mif\u001B[39;00m ignore_index:\n",
      "File \u001B[1;32md:\\pycharm projects\\basketball-stats project\\.venv\\lib\\site-packages\\pandas\\core\\sorting.py:417\u001B[0m, in \u001B[0;36mnargsort\u001B[1;34m(items, kind, ascending, na_position, key, mask)\u001B[0m\n\u001B[0;32m    414\u001B[0m \u001B[38;5;66;03m# Finally, place the NaNs at the end or the beginning according to\u001B[39;00m\n\u001B[0;32m    415\u001B[0m \u001B[38;5;66;03m# na_position\u001B[39;00m\n\u001B[0;32m    416\u001B[0m \u001B[38;5;28;01mif\u001B[39;00m na_position \u001B[38;5;241m==\u001B[39m \u001B[38;5;124m\"\u001B[39m\u001B[38;5;124mlast\u001B[39m\u001B[38;5;124m\"\u001B[39m:\n\u001B[1;32m--> 417\u001B[0m     indexer \u001B[38;5;241m=\u001B[39m \u001B[43mnp\u001B[49m\u001B[38;5;241;43m.\u001B[39;49m\u001B[43mconcatenate\u001B[49m\u001B[43m(\u001B[49m\u001B[43m[\u001B[49m\u001B[43mindexer\u001B[49m\u001B[43m,\u001B[49m\u001B[43m \u001B[49m\u001B[43mnan_idx\u001B[49m\u001B[43m]\u001B[49m\u001B[43m)\u001B[49m\n\u001B[0;32m    418\u001B[0m \u001B[38;5;28;01melif\u001B[39;00m na_position \u001B[38;5;241m==\u001B[39m \u001B[38;5;124m\"\u001B[39m\u001B[38;5;124mfirst\u001B[39m\u001B[38;5;124m\"\u001B[39m:\n\u001B[0;32m    419\u001B[0m     indexer \u001B[38;5;241m=\u001B[39m np\u001B[38;5;241m.\u001B[39mconcatenate([nan_idx, indexer])\n",
      "File \u001B[1;32m<__array_function__ internals>:180\u001B[0m, in \u001B[0;36mconcatenate\u001B[1;34m(*args, **kwargs)\u001B[0m\n",
      "\u001B[1;31mKeyboardInterrupt\u001B[0m: "
     ]
    }
   ],
   "source": [
    "import numpy as np\n",
    "best4_playoffs = get_best_4_years(df_playoffs)\n",
    "def concat_avg_to_4years_playoff(row):\n",
    "    \n",
    "    print(\"before\")\n",
    "    if row.name in best4_playoffs.index:\n",
    "        avg = np.mean([best4_playoffs.loc[row.name]['score2'], row['score2']])\n",
    "    else:\n",
    "        avg = row['score2']/2\n",
    "    print(\"after\")\n",
    "    return avg\n",
    "\n",
    "con = get_best_year(df_season)\n",
    "con['avg'] = con.apply(concat_avg_to_4years_playoff, axis=1)"
   ]
  },
  {
   "cell_type": "code",
   "execution_count": null,
   "metadata": {},
   "outputs": [],
   "source": [
    "con"
   ]
  },
  {
   "cell_type": "code",
   "execution_count": 45,
   "metadata": {
    "pycharm": {
     "name": "#%%\n"
    }
   },
   "outputs": [
    {
     "data": {
      "text/html": [
       "<div>\n",
       "<style scoped>\n",
       "    .dataframe tbody tr th:only-of-type {\n",
       "        vertical-align: middle;\n",
       "    }\n",
       "\n",
       "    .dataframe tbody tr th {\n",
       "        vertical-align: top;\n",
       "    }\n",
       "\n",
       "    .dataframe thead th {\n",
       "        text-align: right;\n",
       "    }\n",
       "</style>\n",
       "<table border=\"1\" class=\"dataframe\">\n",
       "  <thead>\n",
       "    <tr style=\"text-align: right;\">\n",
       "      <th></th>\n",
       "      <th>Name</th>\n",
       "      <th>Years</th>\n",
       "      <th>score2</th>\n",
       "    </tr>\n",
       "    <tr>\n",
       "      <th>id</th>\n",
       "      <th></th>\n",
       "      <th></th>\n",
       "      <th></th>\n",
       "    </tr>\n",
       "  </thead>\n",
       "  <tbody>\n",
       "    <tr>\n",
       "      <th>jordami01</th>\n",
       "      <td>Michael Jordan</td>\n",
       "      <td>[1986, 1989, 1990, 1991]</td>\n",
       "      <td>31.431289</td>\n",
       "    </tr>\n",
       "    <tr>\n",
       "      <th>jamesle01</th>\n",
       "      <td>LeBron James</td>\n",
       "      <td>[2009, 2017, 2018, 2020]</td>\n",
       "      <td>30.090656</td>\n",
       "    </tr>\n",
       "    <tr>\n",
       "      <th>johnsma02</th>\n",
       "      <td>Magic Johnson</td>\n",
       "      <td>[1985, 1986, 1987, 1990]</td>\n",
       "      <td>29.743493</td>\n",
       "    </tr>\n",
       "    <tr>\n",
       "      <th>doncilu01</th>\n",
       "      <td>Luka Dončić</td>\n",
       "      <td>[2020, 2021]</td>\n",
       "      <td>28.411557</td>\n",
       "    </tr>\n",
       "    <tr>\n",
       "      <th>stockjo01</th>\n",
       "      <td>John Stockton</td>\n",
       "      <td>[1988, 1989, 1990, 1991]</td>\n",
       "      <td>28.329942</td>\n",
       "    </tr>\n",
       "    <tr>\n",
       "      <th>...</th>\n",
       "      <td>...</td>\n",
       "      <td>...</td>\n",
       "      <td>...</td>\n",
       "    </tr>\n",
       "    <tr>\n",
       "      <th>ntilila01</th>\n",
       "      <td>Frank Ntilikina</td>\n",
       "      <td>[2021]</td>\n",
       "      <td>0.538628</td>\n",
       "    </tr>\n",
       "    <tr>\n",
       "      <th>higgise01</th>\n",
       "      <td>Sean Higgins</td>\n",
       "      <td>[1991]</td>\n",
       "      <td>0.538628</td>\n",
       "    </tr>\n",
       "    <tr>\n",
       "      <th>newbiiv01</th>\n",
       "      <td>Ivano Newbill</td>\n",
       "      <td>[1997]</td>\n",
       "      <td>0.484641</td>\n",
       "    </tr>\n",
       "    <tr>\n",
       "      <th>lesji01</th>\n",
       "      <td>Jim Les</td>\n",
       "      <td>[1989]</td>\n",
       "      <td>0.394552</td>\n",
       "    </tr>\n",
       "    <tr>\n",
       "      <th>pruitga01</th>\n",
       "      <td>Gabe Pruitt</td>\n",
       "      <td>[2009]</td>\n",
       "      <td>0.349852</td>\n",
       "    </tr>\n",
       "  </tbody>\n",
       "</table>\n",
       "<p>1523 rows × 3 columns</p>\n",
       "</div>"
      ],
      "text/plain": [
       "                      Name                     Years     score2\n",
       "id                                                             \n",
       "jordami01   Michael Jordan  [1986, 1989, 1990, 1991]  31.431289\n",
       "jamesle01     LeBron James  [2009, 2017, 2018, 2020]  30.090656\n",
       "johnsma02    Magic Johnson  [1985, 1986, 1987, 1990]  29.743493\n",
       "doncilu01      Luka Dončić              [2020, 2021]  28.411557\n",
       "stockjo01    John Stockton  [1988, 1989, 1990, 1991]  28.329942\n",
       "...                    ...                       ...        ...\n",
       "ntilila01  Frank Ntilikina                    [2021]   0.538628\n",
       "higgise01     Sean Higgins                    [1991]   0.538628\n",
       "newbiiv01    Ivano Newbill                    [1997]   0.484641\n",
       "lesji01            Jim Les                    [1989]   0.394552\n",
       "pruitga01      Gabe Pruitt                    [2009]   0.349852\n",
       "\n",
       "[1523 rows x 3 columns]"
      ]
     },
     "execution_count": 45,
     "metadata": {},
     "output_type": "execute_result"
    }
   ],
   "source": [
    "df_best4_playoffs.sort_values(by='score2', ascending=False)"
   ]
  },
  {
   "cell_type": "code",
   "execution_count": null,
   "metadata": {},
   "outputs": [],
   "source": []
  }
 ],
 "metadata": {
  "kernelspec": {
   "display_name": "Python 3 (ipykernel)",
   "language": "python",
   "name": "python3"
  },
  "language_info": {
   "codemirror_mode": {
    "name": "ipython",
    "version": 3
   },
   "file_extension": ".py",
   "mimetype": "text/x-python",
   "name": "python",
   "nbconvert_exporter": "python",
   "pygments_lexer": "ipython3",
   "version": "3.9.6"
  }
 },
 "nbformat": 4,
 "nbformat_minor": 1
}