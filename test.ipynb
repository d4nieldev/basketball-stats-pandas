{
 "cells": [
  {
   "cell_type": "markdown",
   "source": [
    "# Playing with data"
   ],
   "metadata": {
    "collapsed": false
   }
  },
  {
   "cell_type": "markdown",
   "source": [
    "read data from csv"
   ],
   "metadata": {
    "collapsed": false
   }
  },
  {
   "cell_type": "code",
   "execution_count": 1,
   "metadata": {},
   "outputs": [],
   "source": [
    "import pandas as pd\n",
    "df_season = pd.read_csv(\"static/data/NBA_season.csv\")\n",
    "df_season = df_season[df_season.columns.tolist()[1:]]\n",
    "df_playoffs = pd.read_csv(\"static/data/NBA_playoffs.csv\")\n",
    "df_playoffs= df_playoffs[df_playoffs.columns.tolist()[1:]]\n",
    "df_teams = pd.read_csv(\"static/data/NBA_teams.csv\")"
   ]
  },
  {
   "cell_type": "code",
   "execution_count": 2,
   "outputs": [
    {
     "data": {
      "text/plain": "      Tm  Win%\n0    BOS  58.9\n1    DEN  50.7\n2    VAN  42.5\n3    LAL  59.4\n4    POR  53.6\n..   ...   ...\n99   SDS  38.4\n100  ROC  45.5\n101  CAP  45.2\n102  MMP  41.7\n103  MNM  46.3\n\n[104 rows x 2 columns]",
      "text/html": "<div>\n<style scoped>\n    .dataframe tbody tr th:only-of-type {\n        vertical-align: middle;\n    }\n\n    .dataframe tbody tr th {\n        vertical-align: top;\n    }\n\n    .dataframe thead th {\n        text-align: right;\n    }\n</style>\n<table border=\"1\" class=\"dataframe\">\n  <thead>\n    <tr style=\"text-align: right;\">\n      <th></th>\n      <th>Tm</th>\n      <th>Win%</th>\n    </tr>\n  </thead>\n  <tbody>\n    <tr>\n      <th>0</th>\n      <td>BOS</td>\n      <td>58.9</td>\n    </tr>\n    <tr>\n      <th>1</th>\n      <td>DEN</td>\n      <td>50.7</td>\n    </tr>\n    <tr>\n      <th>2</th>\n      <td>VAN</td>\n      <td>42.5</td>\n    </tr>\n    <tr>\n      <th>3</th>\n      <td>LAL</td>\n      <td>59.4</td>\n    </tr>\n    <tr>\n      <th>4</th>\n      <td>POR</td>\n      <td>53.6</td>\n    </tr>\n    <tr>\n      <th>...</th>\n      <td>...</td>\n      <td>...</td>\n    </tr>\n    <tr>\n      <th>99</th>\n      <td>SDS</td>\n      <td>38.4</td>\n    </tr>\n    <tr>\n      <th>100</th>\n      <td>ROC</td>\n      <td>45.5</td>\n    </tr>\n    <tr>\n      <th>101</th>\n      <td>CAP</td>\n      <td>45.2</td>\n    </tr>\n    <tr>\n      <th>102</th>\n      <td>MMP</td>\n      <td>41.7</td>\n    </tr>\n    <tr>\n      <th>103</th>\n      <td>MNM</td>\n      <td>46.3</td>\n    </tr>\n  </tbody>\n</table>\n<p>104 rows × 2 columns</p>\n</div>"
     },
     "execution_count": 2,
     "metadata": {},
     "output_type": "execute_result"
    }
   ],
   "source": [
    "df_teams"
   ],
   "metadata": {
    "collapsed": false,
    "pycharm": {
     "name": "#%%\n"
    }
   }
  },
  {
   "cell_type": "markdown",
   "source": [
    "add team win rate to df_season"
   ],
   "metadata": {
    "collapsed": false
   }
  },
  {
   "cell_type": "code",
   "execution_count": 3,
   "outputs": [],
   "source": [
    "def get_win_rate(flag):\n",
    "    try:\n",
    "        win_rate = df_teams[df_teams['Tm'] == flag].iloc[0]['Win%']\n",
    "    except KeyError:\n",
    "        # team has no record of win rate\n",
    "        win_rate = None\n",
    "    return win_rate\n",
    "\n",
    "df_season['TmWin%'] = df_season['Tm'].apply(get_win_rate)"
   ],
   "metadata": {
    "collapsed": false,
    "pycharm": {
     "name": "#%%\n"
    }
   }
  },
  {
   "cell_type": "code",
   "execution_count": 4,
   "outputs": [
    {
     "data": {
      "text/plain": "             id                Name  From    To  Height      Weight  Year  \\\n0     abdelal01      Alaa Abdelnaby  1991  1995  208.28  108.862169  1991   \n1     abdelal01      Alaa Abdelnaby  1991  1995  208.28  108.862169  1992   \n2     abdulma02  Mahmoud Abdul-Rauf  1991  2001  185.42   73.481964  1991   \n3     abdulma02  Mahmoud Abdul-Rauf  1991  2001  185.42   73.481964  1992   \n4     abdulma02  Mahmoud Abdul-Rauf  1991  2001  185.42   73.481964  1993   \n...         ...                 ...   ...   ...     ...         ...   ...   \n8289  zellety01        Tyler Zeller  2013  2020  213.36  114.758870  2016   \n8290  zellety01        Tyler Zeller  2013  2020  213.36  114.758870  2017   \n8291  zipsepa01         Paul Zipser  2017  2018  203.20   97.522360  2017   \n8292  zipsepa01         Paul Zipser  2017  2018  203.20   97.522360  2018   \n8293  zubaciv01         Ivica Zubac  2017  2022  213.36  108.862169  2018   \n\n       Age   Tm   Lg  ...  DRB  TRB  AST  STL  BLK  TOV   PF   PTS  TmWin%  \\\n0     22.0  POR  NBA  ...  1.4  2.1  0.3  0.1  0.3  0.5  0.9   3.1    53.6   \n1     23.0  POR  NBA  ...  2.5  3.7  0.4  0.4  0.2  0.9  1.9   6.1    53.6   \n2     21.0  DEN  NBA  ...  1.3  1.8  3.1  0.8  0.1  1.6  2.2  14.1    50.7   \n3     22.0  DEN  NBA  ...  1.1  1.4  2.4  0.5  0.0  1.4  1.6  10.3    50.7   \n4     23.0  DEN  NBA  ...  2.1  2.8  4.2  1.0  0.1  2.3  2.2  19.2    50.7   \n...    ...  ...  ...  ...  ...  ...  ...  ...  ...  ...  ...   ...     ...   \n8289  26.0  BOS  NBA  ...  1.9  3.0  0.5  0.2  0.4  0.8  1.6   6.1    58.9   \n8290  27.0  BOS  NBA  ...  1.6  2.4  0.8  0.1  0.4  0.4  1.2   3.5    58.9   \n8291  22.0  CHI  NBA  ...  2.5  2.8  0.8  0.3  0.4  0.9  1.8   5.5    51.1   \n8292  23.0  CHI  NBA  ...  2.2  2.4  0.9  0.4  0.3  0.8  1.6   4.0    51.1   \n8293  20.0  LAL  NBA  ...  1.8  2.9  0.6  0.2  0.3  0.6  1.1   3.7    59.4   \n\n         score2  \n0      2.455228  \n1      4.646871  \n2      9.554548  \n3      7.143728  \n4     14.192043  \n...         ...  \n8289   4.532796  \n8290   3.098721  \n8291   3.887579  \n8292   2.976722  \n8293   3.393438  \n\n[8294 rows x 38 columns]",
      "text/html": "<div>\n<style scoped>\n    .dataframe tbody tr th:only-of-type {\n        vertical-align: middle;\n    }\n\n    .dataframe tbody tr th {\n        vertical-align: top;\n    }\n\n    .dataframe thead th {\n        text-align: right;\n    }\n</style>\n<table border=\"1\" class=\"dataframe\">\n  <thead>\n    <tr style=\"text-align: right;\">\n      <th></th>\n      <th>id</th>\n      <th>Name</th>\n      <th>From</th>\n      <th>To</th>\n      <th>Height</th>\n      <th>Weight</th>\n      <th>Year</th>\n      <th>Age</th>\n      <th>Tm</th>\n      <th>Lg</th>\n      <th>...</th>\n      <th>DRB</th>\n      <th>TRB</th>\n      <th>AST</th>\n      <th>STL</th>\n      <th>BLK</th>\n      <th>TOV</th>\n      <th>PF</th>\n      <th>PTS</th>\n      <th>TmWin%</th>\n      <th>score2</th>\n    </tr>\n  </thead>\n  <tbody>\n    <tr>\n      <th>0</th>\n      <td>abdelal01</td>\n      <td>Alaa Abdelnaby</td>\n      <td>1991</td>\n      <td>1995</td>\n      <td>208.28</td>\n      <td>108.862169</td>\n      <td>1991</td>\n      <td>22.0</td>\n      <td>POR</td>\n      <td>NBA</td>\n      <td>...</td>\n      <td>1.4</td>\n      <td>2.1</td>\n      <td>0.3</td>\n      <td>0.1</td>\n      <td>0.3</td>\n      <td>0.5</td>\n      <td>0.9</td>\n      <td>3.1</td>\n      <td>53.6</td>\n      <td>2.455228</td>\n    </tr>\n    <tr>\n      <th>1</th>\n      <td>abdelal01</td>\n      <td>Alaa Abdelnaby</td>\n      <td>1991</td>\n      <td>1995</td>\n      <td>208.28</td>\n      <td>108.862169</td>\n      <td>1992</td>\n      <td>23.0</td>\n      <td>POR</td>\n      <td>NBA</td>\n      <td>...</td>\n      <td>2.5</td>\n      <td>3.7</td>\n      <td>0.4</td>\n      <td>0.4</td>\n      <td>0.2</td>\n      <td>0.9</td>\n      <td>1.9</td>\n      <td>6.1</td>\n      <td>53.6</td>\n      <td>4.646871</td>\n    </tr>\n    <tr>\n      <th>2</th>\n      <td>abdulma02</td>\n      <td>Mahmoud Abdul-Rauf</td>\n      <td>1991</td>\n      <td>2001</td>\n      <td>185.42</td>\n      <td>73.481964</td>\n      <td>1991</td>\n      <td>21.0</td>\n      <td>DEN</td>\n      <td>NBA</td>\n      <td>...</td>\n      <td>1.3</td>\n      <td>1.8</td>\n      <td>3.1</td>\n      <td>0.8</td>\n      <td>0.1</td>\n      <td>1.6</td>\n      <td>2.2</td>\n      <td>14.1</td>\n      <td>50.7</td>\n      <td>9.554548</td>\n    </tr>\n    <tr>\n      <th>3</th>\n      <td>abdulma02</td>\n      <td>Mahmoud Abdul-Rauf</td>\n      <td>1991</td>\n      <td>2001</td>\n      <td>185.42</td>\n      <td>73.481964</td>\n      <td>1992</td>\n      <td>22.0</td>\n      <td>DEN</td>\n      <td>NBA</td>\n      <td>...</td>\n      <td>1.1</td>\n      <td>1.4</td>\n      <td>2.4</td>\n      <td>0.5</td>\n      <td>0.0</td>\n      <td>1.4</td>\n      <td>1.6</td>\n      <td>10.3</td>\n      <td>50.7</td>\n      <td>7.143728</td>\n    </tr>\n    <tr>\n      <th>4</th>\n      <td>abdulma02</td>\n      <td>Mahmoud Abdul-Rauf</td>\n      <td>1991</td>\n      <td>2001</td>\n      <td>185.42</td>\n      <td>73.481964</td>\n      <td>1993</td>\n      <td>23.0</td>\n      <td>DEN</td>\n      <td>NBA</td>\n      <td>...</td>\n      <td>2.1</td>\n      <td>2.8</td>\n      <td>4.2</td>\n      <td>1.0</td>\n      <td>0.1</td>\n      <td>2.3</td>\n      <td>2.2</td>\n      <td>19.2</td>\n      <td>50.7</td>\n      <td>14.192043</td>\n    </tr>\n    <tr>\n      <th>...</th>\n      <td>...</td>\n      <td>...</td>\n      <td>...</td>\n      <td>...</td>\n      <td>...</td>\n      <td>...</td>\n      <td>...</td>\n      <td>...</td>\n      <td>...</td>\n      <td>...</td>\n      <td>...</td>\n      <td>...</td>\n      <td>...</td>\n      <td>...</td>\n      <td>...</td>\n      <td>...</td>\n      <td>...</td>\n      <td>...</td>\n      <td>...</td>\n      <td>...</td>\n      <td>...</td>\n    </tr>\n    <tr>\n      <th>8289</th>\n      <td>zellety01</td>\n      <td>Tyler Zeller</td>\n      <td>2013</td>\n      <td>2020</td>\n      <td>213.36</td>\n      <td>114.758870</td>\n      <td>2016</td>\n      <td>26.0</td>\n      <td>BOS</td>\n      <td>NBA</td>\n      <td>...</td>\n      <td>1.9</td>\n      <td>3.0</td>\n      <td>0.5</td>\n      <td>0.2</td>\n      <td>0.4</td>\n      <td>0.8</td>\n      <td>1.6</td>\n      <td>6.1</td>\n      <td>58.9</td>\n      <td>4.532796</td>\n    </tr>\n    <tr>\n      <th>8290</th>\n      <td>zellety01</td>\n      <td>Tyler Zeller</td>\n      <td>2013</td>\n      <td>2020</td>\n      <td>213.36</td>\n      <td>114.758870</td>\n      <td>2017</td>\n      <td>27.0</td>\n      <td>BOS</td>\n      <td>NBA</td>\n      <td>...</td>\n      <td>1.6</td>\n      <td>2.4</td>\n      <td>0.8</td>\n      <td>0.1</td>\n      <td>0.4</td>\n      <td>0.4</td>\n      <td>1.2</td>\n      <td>3.5</td>\n      <td>58.9</td>\n      <td>3.098721</td>\n    </tr>\n    <tr>\n      <th>8291</th>\n      <td>zipsepa01</td>\n      <td>Paul Zipser</td>\n      <td>2017</td>\n      <td>2018</td>\n      <td>203.20</td>\n      <td>97.522360</td>\n      <td>2017</td>\n      <td>22.0</td>\n      <td>CHI</td>\n      <td>NBA</td>\n      <td>...</td>\n      <td>2.5</td>\n      <td>2.8</td>\n      <td>0.8</td>\n      <td>0.3</td>\n      <td>0.4</td>\n      <td>0.9</td>\n      <td>1.8</td>\n      <td>5.5</td>\n      <td>51.1</td>\n      <td>3.887579</td>\n    </tr>\n    <tr>\n      <th>8292</th>\n      <td>zipsepa01</td>\n      <td>Paul Zipser</td>\n      <td>2017</td>\n      <td>2018</td>\n      <td>203.20</td>\n      <td>97.522360</td>\n      <td>2018</td>\n      <td>23.0</td>\n      <td>CHI</td>\n      <td>NBA</td>\n      <td>...</td>\n      <td>2.2</td>\n      <td>2.4</td>\n      <td>0.9</td>\n      <td>0.4</td>\n      <td>0.3</td>\n      <td>0.8</td>\n      <td>1.6</td>\n      <td>4.0</td>\n      <td>51.1</td>\n      <td>2.976722</td>\n    </tr>\n    <tr>\n      <th>8293</th>\n      <td>zubaciv01</td>\n      <td>Ivica Zubac</td>\n      <td>2017</td>\n      <td>2022</td>\n      <td>213.36</td>\n      <td>108.862169</td>\n      <td>2018</td>\n      <td>20.0</td>\n      <td>LAL</td>\n      <td>NBA</td>\n      <td>...</td>\n      <td>1.8</td>\n      <td>2.9</td>\n      <td>0.6</td>\n      <td>0.2</td>\n      <td>0.3</td>\n      <td>0.6</td>\n      <td>1.1</td>\n      <td>3.7</td>\n      <td>59.4</td>\n      <td>3.393438</td>\n    </tr>\n  </tbody>\n</table>\n<p>8294 rows × 38 columns</p>\n</div>"
     },
     "execution_count": 4,
     "metadata": {},
     "output_type": "execute_result"
    }
   ],
   "source": [
    "df_season"
   ],
   "metadata": {
    "collapsed": false,
    "pycharm": {
     "name": "#%%\n"
    }
   }
  },
  {
   "cell_type": "markdown",
   "source": [
    "filter players by these filters:\n",
    "\n",
    "Playoffs:\n",
    "---------\n",
    "Games >= 3\n",
    "year >= 1978\n",
    "\n",
    "Season:\n",
    "-------\n",
    "Games >= 40\n",
    "Team win rate >= 48%\n",
    "year >= 1978"
   ],
   "metadata": {
    "collapsed": false
   }
  },
  {
   "cell_type": "code",
   "execution_count": 5,
   "outputs": [],
   "source": [
    "df_season = df_season[(df_season['G'] >= 40) & (df_season['Year'] >= 1978) & (df_season['TmWin%'] >= 48)]\n",
    "df_playoffs = df_playoffs[(df_playoffs['G'] >= 3) & (df_playoffs['Year'] >= 1978)]"
   ],
   "metadata": {
    "collapsed": false,
    "pycharm": {
     "name": "#%%\n"
    }
   }
  },
  {
   "cell_type": "markdown",
   "source": [
    "fill 0 where None"
   ],
   "metadata": {
    "collapsed": false
   }
  },
  {
   "cell_type": "code",
   "execution_count": 6,
   "outputs": [],
   "source": [
    "df_season = df_season.fillna(0)\n",
    "df_playoffs = df_playoffs.fillna(0)"
   ],
   "metadata": {
    "collapsed": false,
    "pycharm": {
     "name": "#%%\n"
    }
   }
  },
  {
   "cell_type": "markdown",
   "source": [
    "add score column according to the calculation"
   ],
   "metadata": {
    "collapsed": false
   }
  },
  {
   "cell_type": "code",
   "execution_count": 7,
   "metadata": {
    "pycharm": {
     "name": "#%%\n"
    }
   },
   "outputs": [],
   "source": [
    "from utils import calc_score\n",
    "df_season['score2'] = df_season.apply(calc_score, axis=1)\n",
    "df_playoffs['score2'] = df_playoffs.apply(calc_score, axis=1)"
   ]
  },
  {
   "cell_type": "markdown",
   "source": [
    "save as csvs"
   ],
   "metadata": {
    "collapsed": false
   }
  },
  {
   "cell_type": "code",
   "execution_count": 8,
   "outputs": [],
   "source": [
    "df_season.to_csv(\"NBA_season.csv\")\n",
    "df_playoffs.to_csv(\"NBA_playoffs.csv\")\n",
    "df_teams.to_csv(\"NBA_teams.csv\")"
   ],
   "metadata": {
    "collapsed": false,
    "pycharm": {
     "name": "#%%\n"
    }
   }
  },
  {
   "cell_type": "markdown",
   "source": [
    "## Calculate average stats by pos"
   ],
   "metadata": {
    "collapsed": false
   }
  },
  {
   "cell_type": "code",
   "execution_count": 9,
   "metadata": {},
   "outputs": [],
   "source": [
    "group = df_season[(df_season['Year'] >= 1980) & (df_season['MP'] >= 20)].groupby('Pos')\n",
    "\n",
    "df_avg_stats_by_pos_mixed = group[[\"AST\", \"PTS\", \"TOV\", \"BLK\", \"STL\", \"ORB\", \"DRB\"]].mean()\n",
    "df_avg_stats_by_pos = df_avg_stats_by_pos_mixed.loc[['PF', 'C', 'PG', 'SF', 'SG']]\n",
    "df_count_by_pos = group['id'].count()"
   ]
  },
  {
   "cell_type": "code",
   "execution_count": 10,
   "outputs": [],
   "source": [
    "count_by_pos = {\n",
    "    'C': df_count_by_pos.loc['C'],\n",
    "    'PF': df_count_by_pos.loc['PF'],\n",
    "    'PG': df_count_by_pos.loc['PG'],\n",
    "    'SF': df_count_by_pos.loc['SF'],\n",
    "    'SG': df_count_by_pos.loc['SG'],\n",
    "}\n",
    "\n",
    "for pos, row in df_avg_stats_by_pos_mixed.iterrows():\n",
    "    if pos not in ['PF', 'C', 'PG', 'SF', 'SG']:\n",
    "        # get amount of players with this mixed position\n",
    "        amount_mixed = df_count_by_pos.loc[pos]\n",
    "\n",
    "        # get the sum of the mixed stats for each stat\n",
    "        stats = []\n",
    "        for stat in row:\n",
    "            stats.append(stat * amount_mixed)\n",
    "\n",
    "        # for each position, add avg to position\n",
    "        for p in pos.split(','):\n",
    "            p = p.strip()\n",
    "            amount_pure = count_by_pos[p]\n",
    "\n",
    "            # get average stats for this pure pos\n",
    "            pos_row = df_avg_stats_by_pos.loc[p]\n",
    "            for i in range(len(stats)):\n",
    "                # create new weighted arithmetic mean\n",
    "                new_stat = (pos_row[i] * amount_pure + stats[i]) / (amount_pure + amount_mixed)\n",
    "                pos_row[i] = new_stat\n",
    "\n",
    "            # update amount for this pos\n",
    "            count_by_pos[p] += amount_mixed"
   ],
   "metadata": {
    "collapsed": false,
    "pycharm": {
     "name": "#%%\n"
    }
   }
  },
  {
   "cell_type": "code",
   "execution_count": 11,
   "outputs": [
    {
     "data": {
      "text/plain": "          AST        PTS       TOV       BLK       STL       ORB       DRB\nPos                                                                       \nPF   1.949051  13.090512  1.768501  0.792694  0.848292  2.149146  5.082638\nC    1.637459  12.275679  1.771553  1.434745  0.707383  2.469707  5.542997\nPG   5.697905  12.883524  2.184571  0.198571  1.284857  0.674095  2.477524\nSF   2.516463  14.219003  1.799059  0.504610  1.034807  1.398589  3.579210\nSG   3.156130  14.305517  1.815937  0.308581  1.099650  0.859370  2.641856",
      "text/html": "<div>\n<style scoped>\n    .dataframe tbody tr th:only-of-type {\n        vertical-align: middle;\n    }\n\n    .dataframe tbody tr th {\n        vertical-align: top;\n    }\n\n    .dataframe thead th {\n        text-align: right;\n    }\n</style>\n<table border=\"1\" class=\"dataframe\">\n  <thead>\n    <tr style=\"text-align: right;\">\n      <th></th>\n      <th>AST</th>\n      <th>PTS</th>\n      <th>TOV</th>\n      <th>BLK</th>\n      <th>STL</th>\n      <th>ORB</th>\n      <th>DRB</th>\n    </tr>\n    <tr>\n      <th>Pos</th>\n      <th></th>\n      <th></th>\n      <th></th>\n      <th></th>\n      <th></th>\n      <th></th>\n      <th></th>\n    </tr>\n  </thead>\n  <tbody>\n    <tr>\n      <th>PF</th>\n      <td>1.949051</td>\n      <td>13.090512</td>\n      <td>1.768501</td>\n      <td>0.792694</td>\n      <td>0.848292</td>\n      <td>2.149146</td>\n      <td>5.082638</td>\n    </tr>\n    <tr>\n      <th>C</th>\n      <td>1.637459</td>\n      <td>12.275679</td>\n      <td>1.771553</td>\n      <td>1.434745</td>\n      <td>0.707383</td>\n      <td>2.469707</td>\n      <td>5.542997</td>\n    </tr>\n    <tr>\n      <th>PG</th>\n      <td>5.697905</td>\n      <td>12.883524</td>\n      <td>2.184571</td>\n      <td>0.198571</td>\n      <td>1.284857</td>\n      <td>0.674095</td>\n      <td>2.477524</td>\n    </tr>\n    <tr>\n      <th>SF</th>\n      <td>2.516463</td>\n      <td>14.219003</td>\n      <td>1.799059</td>\n      <td>0.504610</td>\n      <td>1.034807</td>\n      <td>1.398589</td>\n      <td>3.579210</td>\n    </tr>\n    <tr>\n      <th>SG</th>\n      <td>3.156130</td>\n      <td>14.305517</td>\n      <td>1.815937</td>\n      <td>0.308581</td>\n      <td>1.099650</td>\n      <td>0.859370</td>\n      <td>2.641856</td>\n    </tr>\n  </tbody>\n</table>\n</div>"
     },
     "execution_count": 11,
     "metadata": {},
     "output_type": "execute_result"
    }
   ],
   "source": [
    "df_avg_stats_by_pos"
   ],
   "metadata": {
    "collapsed": false,
    "pycharm": {
     "name": "#%%\n"
    }
   }
  },
  {
   "cell_type": "markdown",
   "source": [
    "## Calculate player score for season and playoffs"
   ],
   "metadata": {
    "collapsed": false
   }
  },
  {
   "cell_type": "markdown",
   "source": [
    "option 1 - best year of the player"
   ],
   "metadata": {
    "collapsed": false
   }
  },
  {
   "cell_type": "code",
   "execution_count": 12,
   "outputs": [
    {
     "data": {
      "text/plain": "                        Name  Year     score2\nid                                           \nnealll01          Lloyd Neal  1978  33.071961\njamesaa01        Aaron James  1978  30.759931\njordami01     Michael Jordan  1985  29.800270\nwestbru01  Russell Westbrook  2009  28.530249\nhardeja01       James Harden  2010  28.425531\n...                      ...   ...        ...\nnilesmi01         Mike Niles  1981   1.487358\nkornefr01       Frank Kornet  1990   1.471596\nlewisra01        Ralph Lewis  1988   1.327903\nblankla01       Lance Blanks  1992   1.168212\nwestma02          Mario West  2008   1.153886\n\n[1929 rows x 3 columns]",
      "text/html": "<div>\n<style scoped>\n    .dataframe tbody tr th:only-of-type {\n        vertical-align: middle;\n    }\n\n    .dataframe tbody tr th {\n        vertical-align: top;\n    }\n\n    .dataframe thead th {\n        text-align: right;\n    }\n</style>\n<table border=\"1\" class=\"dataframe\">\n  <thead>\n    <tr style=\"text-align: right;\">\n      <th></th>\n      <th>Name</th>\n      <th>Year</th>\n      <th>score2</th>\n    </tr>\n    <tr>\n      <th>id</th>\n      <th></th>\n      <th></th>\n      <th></th>\n    </tr>\n  </thead>\n  <tbody>\n    <tr>\n      <th>nealll01</th>\n      <td>Lloyd Neal</td>\n      <td>1978</td>\n      <td>33.071961</td>\n    </tr>\n    <tr>\n      <th>jamesaa01</th>\n      <td>Aaron James</td>\n      <td>1978</td>\n      <td>30.759931</td>\n    </tr>\n    <tr>\n      <th>jordami01</th>\n      <td>Michael Jordan</td>\n      <td>1985</td>\n      <td>29.800270</td>\n    </tr>\n    <tr>\n      <th>westbru01</th>\n      <td>Russell Westbrook</td>\n      <td>2009</td>\n      <td>28.530249</td>\n    </tr>\n    <tr>\n      <th>hardeja01</th>\n      <td>James Harden</td>\n      <td>2010</td>\n      <td>28.425531</td>\n    </tr>\n    <tr>\n      <th>...</th>\n      <td>...</td>\n      <td>...</td>\n      <td>...</td>\n    </tr>\n    <tr>\n      <th>nilesmi01</th>\n      <td>Mike Niles</td>\n      <td>1981</td>\n      <td>1.487358</td>\n    </tr>\n    <tr>\n      <th>kornefr01</th>\n      <td>Frank Kornet</td>\n      <td>1990</td>\n      <td>1.471596</td>\n    </tr>\n    <tr>\n      <th>lewisra01</th>\n      <td>Ralph Lewis</td>\n      <td>1988</td>\n      <td>1.327903</td>\n    </tr>\n    <tr>\n      <th>blankla01</th>\n      <td>Lance Blanks</td>\n      <td>1992</td>\n      <td>1.168212</td>\n    </tr>\n    <tr>\n      <th>westma02</th>\n      <td>Mario West</td>\n      <td>2008</td>\n      <td>1.153886</td>\n    </tr>\n  </tbody>\n</table>\n<p>1929 rows × 3 columns</p>\n</div>"
     },
     "execution_count": 12,
     "metadata": {},
     "output_type": "execute_result"
    }
   ],
   "source": [
    "df_season[['id', 'Name', 'Year', 'score2']].groupby('id').agg({'Name': 'first', 'Year': 'first', 'score2': 'max'}).sort_values(by='score2', ascending=False)"
   ],
   "metadata": {
    "collapsed": false,
    "pycharm": {
     "name": "#%%\n"
    }
   }
  },
  {
   "cell_type": "code",
   "execution_count": 13,
   "outputs": [
    {
     "data": {
      "text/plain": "                        Name  Year     score2\nid                                           \nsmithel01       Elmore Smith  1978  48.363019\nnealll01          Lloyd Neal  1978  33.071961\njamesaa01        Aaron James  1978  30.759931\njordami01     Michael Jordan  1985  29.800270\nwestbru01  Russell Westbrook  2009  28.530249\n...                      ...   ...        ...\nkiddst01        Stanton Kidd  2020   0.342254\nkutluib01        Ibo Kutluay  2005   0.212021\nmccrach01       Chris McCray  2007   0.151961\nilicmi01           Mile Ilić  2007   0.112128\nroberte01  Terrance Roberson  2001   0.092211\n\n[3398 rows x 3 columns]",
      "text/html": "<div>\n<style scoped>\n    .dataframe tbody tr th:only-of-type {\n        vertical-align: middle;\n    }\n\n    .dataframe tbody tr th {\n        vertical-align: top;\n    }\n\n    .dataframe thead th {\n        text-align: right;\n    }\n</style>\n<table border=\"1\" class=\"dataframe\">\n  <thead>\n    <tr style=\"text-align: right;\">\n      <th></th>\n      <th>Name</th>\n      <th>Year</th>\n      <th>score2</th>\n    </tr>\n    <tr>\n      <th>id</th>\n      <th></th>\n      <th></th>\n      <th></th>\n    </tr>\n  </thead>\n  <tbody>\n    <tr>\n      <th>smithel01</th>\n      <td>Elmore Smith</td>\n      <td>1978</td>\n      <td>48.363019</td>\n    </tr>\n    <tr>\n      <th>nealll01</th>\n      <td>Lloyd Neal</td>\n      <td>1978</td>\n      <td>33.071961</td>\n    </tr>\n    <tr>\n      <th>jamesaa01</th>\n      <td>Aaron James</td>\n      <td>1978</td>\n      <td>30.759931</td>\n    </tr>\n    <tr>\n      <th>jordami01</th>\n      <td>Michael Jordan</td>\n      <td>1985</td>\n      <td>29.800270</td>\n    </tr>\n    <tr>\n      <th>westbru01</th>\n      <td>Russell Westbrook</td>\n      <td>2009</td>\n      <td>28.530249</td>\n    </tr>\n    <tr>\n      <th>...</th>\n      <td>...</td>\n      <td>...</td>\n      <td>...</td>\n    </tr>\n    <tr>\n      <th>kiddst01</th>\n      <td>Stanton Kidd</td>\n      <td>2020</td>\n      <td>0.342254</td>\n    </tr>\n    <tr>\n      <th>kutluib01</th>\n      <td>Ibo Kutluay</td>\n      <td>2005</td>\n      <td>0.212021</td>\n    </tr>\n    <tr>\n      <th>mccrach01</th>\n      <td>Chris McCray</td>\n      <td>2007</td>\n      <td>0.151961</td>\n    </tr>\n    <tr>\n      <th>ilicmi01</th>\n      <td>Mile Ilić</td>\n      <td>2007</td>\n      <td>0.112128</td>\n    </tr>\n    <tr>\n      <th>roberte01</th>\n      <td>Terrance Roberson</td>\n      <td>2001</td>\n      <td>0.092211</td>\n    </tr>\n  </tbody>\n</table>\n<p>3398 rows × 3 columns</p>\n</div>"
     },
     "execution_count": 13,
     "metadata": {},
     "output_type": "execute_result"
    }
   ],
   "source": [
    "df_playoffs[['id', 'Name', 'Year', 'score2']].groupby('id').agg({'Name': 'first', 'Year': 'first', 'score2': 'max'}).sort_values(by='score2', ascending=False)"
   ],
   "metadata": {
    "collapsed": false,
    "pycharm": {
     "name": "#%%\n"
    }
   }
  },
  {
   "cell_type": "markdown",
   "source": [
    "option 2 - average of last max 4 years"
   ],
   "metadata": {
    "collapsed": false
   }
  },
  {
   "cell_type": "code",
   "execution_count": 14,
   "outputs": [],
   "source": [
    "rows_season = {}\n",
    "rows_playoffs = {}\n",
    "\n",
    "for player in df_season['id'].unique():\n",
    "    df_player_season = df_season[df_season['id'] == player].sort_values(by='score2', ascending=False).head(4)\n",
    "    df_player_playoffs = df_season[df_season['id'] == player].sort_values(by='score2', ascending=False).head(4)\n",
    "    avg_season = df_player_season['score2'].mean()\n",
    "    avg_playoffs = df_player_playoffs['score2'].mean()\n",
    "\n",
    "    rows_season[player] = [df_player_season.iloc[0]['Name'], list(df_player_season['Year'].sort_values()), avg_season]\n",
    "    rows_playoffs[player] = [df_player_playoffs.iloc[0]['Name'], list(df_player_playoffs['Year'].sort_values()), avg_playoffs]\n",
    "\n",
    "df_best4_season = pd.DataFrame().from_dict(rows_season, orient='index', columns=['Name', 'Years', 'score2'])\n",
    "df_best4_playoffs = pd.DataFrame().from_dict(rows_playoffs, orient='index', columns=['Name', 'Years', 'score2'])"
   ],
   "metadata": {
    "collapsed": false,
    "pycharm": {
     "name": "#%%\n"
    }
   }
  },
  {
   "cell_type": "code",
   "execution_count": 15,
   "outputs": [
    {
     "data": {
      "text/plain": "                            Name                     Years     score2\nnealll01              Lloyd Neal                    [1978]  33.071961\njordami01         Michael Jordan  [1987, 1988, 1989, 1990]  28.843035\nperrycu01           Curtis Perry                    [1978]  28.318568\nhardeja01           James Harden  [2017, 2018, 2019, 2020]  27.494824\nantetgi01  Giannis Antetokounmpo  [2019, 2020, 2021, 2022]  25.823249\n...                          ...                       ...        ...\nkornefr01           Frank Kornet                    [1990]   1.471596\nhayesst01            Steve Hayes              [1984, 1986]   1.470879\nlewisra01            Ralph Lewis                    [1988]   1.327903\nblankla01           Lance Blanks                    [1992]   1.168212\nwestma02              Mario West              [2008, 2009]   1.129977\n\n[1929 rows x 3 columns]",
      "text/html": "<div>\n<style scoped>\n    .dataframe tbody tr th:only-of-type {\n        vertical-align: middle;\n    }\n\n    .dataframe tbody tr th {\n        vertical-align: top;\n    }\n\n    .dataframe thead th {\n        text-align: right;\n    }\n</style>\n<table border=\"1\" class=\"dataframe\">\n  <thead>\n    <tr style=\"text-align: right;\">\n      <th></th>\n      <th>Name</th>\n      <th>Years</th>\n      <th>score2</th>\n    </tr>\n  </thead>\n  <tbody>\n    <tr>\n      <th>nealll01</th>\n      <td>Lloyd Neal</td>\n      <td>[1978]</td>\n      <td>33.071961</td>\n    </tr>\n    <tr>\n      <th>jordami01</th>\n      <td>Michael Jordan</td>\n      <td>[1987, 1988, 1989, 1990]</td>\n      <td>28.843035</td>\n    </tr>\n    <tr>\n      <th>perrycu01</th>\n      <td>Curtis Perry</td>\n      <td>[1978]</td>\n      <td>28.318568</td>\n    </tr>\n    <tr>\n      <th>hardeja01</th>\n      <td>James Harden</td>\n      <td>[2017, 2018, 2019, 2020]</td>\n      <td>27.494824</td>\n    </tr>\n    <tr>\n      <th>antetgi01</th>\n      <td>Giannis Antetokounmpo</td>\n      <td>[2019, 2020, 2021, 2022]</td>\n      <td>25.823249</td>\n    </tr>\n    <tr>\n      <th>...</th>\n      <td>...</td>\n      <td>...</td>\n      <td>...</td>\n    </tr>\n    <tr>\n      <th>kornefr01</th>\n      <td>Frank Kornet</td>\n      <td>[1990]</td>\n      <td>1.471596</td>\n    </tr>\n    <tr>\n      <th>hayesst01</th>\n      <td>Steve Hayes</td>\n      <td>[1984, 1986]</td>\n      <td>1.470879</td>\n    </tr>\n    <tr>\n      <th>lewisra01</th>\n      <td>Ralph Lewis</td>\n      <td>[1988]</td>\n      <td>1.327903</td>\n    </tr>\n    <tr>\n      <th>blankla01</th>\n      <td>Lance Blanks</td>\n      <td>[1992]</td>\n      <td>1.168212</td>\n    </tr>\n    <tr>\n      <th>westma02</th>\n      <td>Mario West</td>\n      <td>[2008, 2009]</td>\n      <td>1.129977</td>\n    </tr>\n  </tbody>\n</table>\n<p>1929 rows × 3 columns</p>\n</div>"
     },
     "execution_count": 15,
     "metadata": {},
     "output_type": "execute_result"
    }
   ],
   "source": [
    "df_best4_season.sort_values(by='score2', ascending=False)"
   ],
   "metadata": {
    "collapsed": false,
    "pycharm": {
     "name": "#%%\n"
    }
   }
  },
  {
   "cell_type": "code",
   "execution_count": 16,
   "outputs": [
    {
     "data": {
      "text/plain": "                            Name                     Years     score2\nnealll01              Lloyd Neal                    [1978]  33.071961\njordami01         Michael Jordan  [1987, 1988, 1989, 1990]  28.843035\nperrycu01           Curtis Perry                    [1978]  28.318568\nhardeja01           James Harden  [2017, 2018, 2019, 2020]  27.494824\nantetgi01  Giannis Antetokounmpo  [2019, 2020, 2021, 2022]  25.823249\n...                          ...                       ...        ...\nkornefr01           Frank Kornet                    [1990]   1.471596\nhayesst01            Steve Hayes              [1984, 1986]   1.470879\nlewisra01            Ralph Lewis                    [1988]   1.327903\nblankla01           Lance Blanks                    [1992]   1.168212\nwestma02              Mario West              [2008, 2009]   1.129977\n\n[1929 rows x 3 columns]",
      "text/html": "<div>\n<style scoped>\n    .dataframe tbody tr th:only-of-type {\n        vertical-align: middle;\n    }\n\n    .dataframe tbody tr th {\n        vertical-align: top;\n    }\n\n    .dataframe thead th {\n        text-align: right;\n    }\n</style>\n<table border=\"1\" class=\"dataframe\">\n  <thead>\n    <tr style=\"text-align: right;\">\n      <th></th>\n      <th>Name</th>\n      <th>Years</th>\n      <th>score2</th>\n    </tr>\n  </thead>\n  <tbody>\n    <tr>\n      <th>nealll01</th>\n      <td>Lloyd Neal</td>\n      <td>[1978]</td>\n      <td>33.071961</td>\n    </tr>\n    <tr>\n      <th>jordami01</th>\n      <td>Michael Jordan</td>\n      <td>[1987, 1988, 1989, 1990]</td>\n      <td>28.843035</td>\n    </tr>\n    <tr>\n      <th>perrycu01</th>\n      <td>Curtis Perry</td>\n      <td>[1978]</td>\n      <td>28.318568</td>\n    </tr>\n    <tr>\n      <th>hardeja01</th>\n      <td>James Harden</td>\n      <td>[2017, 2018, 2019, 2020]</td>\n      <td>27.494824</td>\n    </tr>\n    <tr>\n      <th>antetgi01</th>\n      <td>Giannis Antetokounmpo</td>\n      <td>[2019, 2020, 2021, 2022]</td>\n      <td>25.823249</td>\n    </tr>\n    <tr>\n      <th>...</th>\n      <td>...</td>\n      <td>...</td>\n      <td>...</td>\n    </tr>\n    <tr>\n      <th>kornefr01</th>\n      <td>Frank Kornet</td>\n      <td>[1990]</td>\n      <td>1.471596</td>\n    </tr>\n    <tr>\n      <th>hayesst01</th>\n      <td>Steve Hayes</td>\n      <td>[1984, 1986]</td>\n      <td>1.470879</td>\n    </tr>\n    <tr>\n      <th>lewisra01</th>\n      <td>Ralph Lewis</td>\n      <td>[1988]</td>\n      <td>1.327903</td>\n    </tr>\n    <tr>\n      <th>blankla01</th>\n      <td>Lance Blanks</td>\n      <td>[1992]</td>\n      <td>1.168212</td>\n    </tr>\n    <tr>\n      <th>westma02</th>\n      <td>Mario West</td>\n      <td>[2008, 2009]</td>\n      <td>1.129977</td>\n    </tr>\n  </tbody>\n</table>\n<p>1929 rows × 3 columns</p>\n</div>"
     },
     "execution_count": 16,
     "metadata": {},
     "output_type": "execute_result"
    }
   ],
   "source": [
    "df_best4_playoffs.sort_values(by='score2', ascending=False)"
   ],
   "metadata": {
    "collapsed": false,
    "pycharm": {
     "name": "#%%\n"
    }
   }
  }
 ],
 "metadata": {
  "kernelspec": {
   "display_name": "Python 3 (ipykernel)",
   "language": "python",
   "name": "python3"
  },
  "language_info": {
   "codemirror_mode": {
    "name": "ipython",
    "version": 3
   },
   "file_extension": ".py",
   "mimetype": "text/x-python",
   "name": "python",
   "nbconvert_exporter": "python",
   "pygments_lexer": "ipython3",
   "version": "3.9.6"
  }
 },
 "nbformat": 4,
 "nbformat_minor": 1
}