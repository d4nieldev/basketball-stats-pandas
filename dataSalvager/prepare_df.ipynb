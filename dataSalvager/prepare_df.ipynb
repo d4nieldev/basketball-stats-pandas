{
 "cells": [
  {
   "cell_type": "markdown",
   "metadata": {},
   "source": []
  },
  {
   "cell_type": "code",
   "execution_count": 2,
   "metadata": {
    "pycharm": {
     "is_executing": true
    }
   },
   "outputs": [],
   "source": [
    "import pandas as pd\n",
    "df_season = pd.read_csv('players_season.csv')\n",
    "df_playoffs = pd.read_csv('players_playoffs.csv')"
   ]
  },
  {
   "cell_type": "markdown",
   "metadata": {},
   "source": [
    "Do these things:\n",
    "* split Unnamed column to 'id' and 'Year' Columns\n",
    "* move the new columns to the start and delete Unnamed column\n",
    "* Delete all the players that didn't play in the NBA\n",
    "* Convert height to cm and weight to kg"
   ]
  },
  {
   "cell_type": "code",
   "execution_count": 3,
   "metadata": {
    "pycharm": {
     "name": "#%%\n"
    }
   },
   "outputs": [],
   "source": [
    "def get_id(s):\n",
    "    return s.split(\" \")[0]\n",
    "\n",
    "\n",
    "def get_year(s):\n",
    "    return s.split(\" \")[1]\n",
    "\n",
    "\n",
    "def lbs_to_kg(weight):\n",
    "    if weight is not None and weight != \"\":\n",
    "        return 0.45359237 * weight\n",
    "\n",
    "\n",
    "def feet_to_cm(height):\n",
    "    if height is not None and height != \"\":\n",
    "        feet = height.split(\"-\")[0]\n",
    "        inches = height.split(\"-\")[1]\n",
    "        return 30.48 * float(feet) + 2.54 * float(inches)"
   ]
  },
  {
   "cell_type": "code",
   "execution_count": 4,
   "metadata": {
    "pycharm": {
     "name": "#%%\n"
    }
   },
   "outputs": [],
   "source": [
    "def format_df(df):\n",
    "    # get name and year from\n",
    "    df['id'] = df['Unnamed: 0'].apply(get_id)\n",
    "    df['Year'] = df['Unnamed: 0'].apply(get_year)\n",
    "    # move id and year to start of table\n",
    "    cols = df.columns.tolist()\n",
    "    cols = [cols[-2]] + cols[1:6] + [cols[-1]] + cols[6:-2]\n",
    "    df = df[cols]\n",
    "    # delete everyone that is not in the NBA\n",
    "    df = df[df['Lg'] == 'NBA']\n",
    "    # convert height and weight to cm and kg (respectively)\n",
    "    df['Height'] = df['Height'].apply(feet_to_cm)\n",
    "    df['Weight'] = df['Weight'].apply(lbs_to_kg)\n",
    "    return df"
   ]
  },
  {
   "cell_type": "code",
   "execution_count": 5,
   "metadata": {
    "pycharm": {
     "name": "#%%\n"
    }
   },
   "outputs": [],
   "source": [
    "df_season = format_df(df_season)\n",
    "df_playoffs = format_df(df_playoffs)"
   ]
  },
  {
   "cell_type": "markdown",
   "metadata": {},
   "source": [
    "Read Teams dataframe"
   ]
  },
  {
   "cell_type": "code",
   "execution_count": 6,
   "metadata": {
    "pycharm": {
     "name": "#%%\n"
    }
   },
   "outputs": [],
   "source": [
    "df_teams = pd.read_csv('Teams.csv')"
   ]
  },
  {
   "cell_type": "markdown",
   "metadata": {},
   "source": [
    "* Rename Unnamed column to Tm\n",
    "* keep only teams with a positive Win%"
   ]
  },
  {
   "cell_type": "code",
   "execution_count": 7,
   "metadata": {
    "pycharm": {
     "name": "#%%\n"
    }
   },
   "outputs": [],
   "source": [
    "df_teams = df_teams.rename(columns={\"Unnamed: 0\": \"Tm\"})"
   ]
  },
  {
   "cell_type": "markdown",
   "metadata": {},
   "source": [
    "Add win rate to df_season "
   ]
  },
  {
   "cell_type": "code",
   "execution_count": 8,
   "metadata": {},
   "outputs": [],
   "source": [
    "def get_win_rate(flag):\n",
    "    if flag == \"TOT\":\n",
    "        win_rate = 48\n",
    "    else:\n",
    "        win_rate = df_teams[df_teams['Tm'] == flag].iloc[0]['WR']\n",
    "    return win_rate\n",
    "\n",
    "df_season['TmWin%'] = df_season['Tm'].apply(get_win_rate)"
   ]
  },
  {
   "cell_type": "markdown",
   "source": [
    "Convert all numeric cols to float"
   ],
   "metadata": {
    "collapsed": false
   }
  },
  {
   "cell_type": "code",
   "execution_count": 9,
   "metadata": {},
   "outputs": [],
   "source": [
    "cols_to_convert = [\n",
    "        \"From\", \"To\", \"Height\", \"Weight\", \"Year\", \"Age\", \"G\", \"GS\", \"MP\", \"FG\", \"FGA\", \"FG%\", \"3P\", \"3PA\", \"3P%\", \"2P\",\n",
    "        \"2PA\", \"2P%\", \"eFG%\", \"FT\", \"FTA\", \"FT%\", \"ORB\", \"DRB\", \"TRB\", \"AST\", \"STL\", \"BLK\", \"TOV\", \"PF\", \"PTS\", \"TmWin%\"\n",
    "    ]\n",
    "df_season[cols_to_convert] = df_season[cols_to_convert].apply(pd.to_numeric)\n",
    "df_playoffs[cols_to_convert[:-1]] = df_playoffs[cols_to_convert[:-1]].apply(pd.to_numeric)"
   ]
  },
  {
   "cell_type": "markdown",
   "source": [
    "filter players by these filters:\n",
    "#### Season:\n",
    "Games >= 40\n",
    "\n",
    "Team win rate >= 48%\n",
    "\n",
    "year >= 1978\n",
    "\n",
    "#### Playoffs:\n",
    "Games >= 3\n",
    "\n",
    "year >= 1978"
   ],
   "metadata": {
    "collapsed": false
   }
  },
  {
   "cell_type": "markdown",
   "source": [
    "df_season = df_season[(df_season['G'] >= 40) & (df_season['Year'] >= 1978) & (df_season['TmWin%'] >= 48)]\n",
    "df_playoffs = df_playoffs[(df_playoffs['G'] >= 3) & (df_playoffs['Year'] >= 1978)]"
   ],
   "metadata": {
    "collapsed": false
   }
  },
  {
   "cell_type": "markdown",
   "source": [
    "if 2p stats are NaN replace fg"
   ],
   "metadata": {
    "collapsed": false
   }
  },
  {
   "cell_type": "markdown",
   "source": [
    "fill NaN with zeros"
   ],
   "metadata": {
    "collapsed": false
   }
  },
  {
   "cell_type": "markdown",
   "source": [
    "df_season = df_season.fillna(0)\n",
    "df_playoffs = df_playoffs.fillna(0)"
   ],
   "metadata": {
    "collapsed": false
   }
  },
  {
   "cell_type": "code",
   "execution_count": 10,
   "metadata": {},
   "outputs": [],
   "source": [
    "df_season = df_season.fillna(0)\n",
    "df_playoffs = df_playoffs.fillna(0)"
   ]
  },
  {
   "cell_type": "code",
   "execution_count": 11,
   "metadata": {},
   "outputs": [],
   "source": [
    "df_season = df_season.fillna(0)\n",
    "df_playoffs = df_playoffs.fillna(0)"
   ]
  },
  {
   "cell_type": "code",
   "execution_count": 12,
   "metadata": {},
   "outputs": [],
   "source": [
    "### Constants"
   ]
  },
  {
   "cell_type": "markdown",
   "metadata": {},
   "source": [
    "### Formula"
   ]
  },
  {
   "cell_type": "code",
   "execution_count": 13,
   "metadata": {},
   "outputs": [],
   "source": [
    "def calc_score(player_stats):\n",
    "    p3_in = player_stats['3P']\n",
    "    p3_ratio = player_stats['3P%']\n",
    "\n",
    "    p2_in = player_stats['2P']\n",
    "    p2_ratio = player_stats['2P%']\n",
    "\n",
    "    ft_in = player_stats['FT']\n",
    "    ft_ratio = player_stats['FT%']\n",
    "\n",
    "    p3_on_me = 0\n",
    "    p3_ratio_on_me = 0\n",
    "\n",
    "    p2_on_me = 0\n",
    "    p2_ratio_on_me = 0\n",
    "\n",
    "    ft_on_me = 0\n",
    "    ft_ratio_on_me = 0\n",
    "\n",
    "    assists = player_stats['AST']\n",
    "    d_rebounds = player_stats['DRB']\n",
    "    off_rebound = player_stats['ORB']\n",
    "    steals = player_stats['STL']\n",
    "    blocks = player_stats['BLK']\n",
    "    turnovers = player_stats['TOV']\n",
    "\n",
    "    p3_league_attack_ratio = LeagueStats.p3_league_attack_ratio\n",
    "    p2_league_attack_ratio = LeagueStats.p2_league_attack_ratio\n",
    "    ft_league_attack_ratio = LeagueStats.ft_league_attack_ratio\n",
    "\n",
    "    p3_league_ratio = LeagueStats.p3_league_ratio\n",
    "    p2_league_ratio = LeagueStats.p2_league_ratio\n",
    "    ft_league_ratio = LeagueStats.ft_league_ratio\n",
    "\n",
    "    if assists <= LeagueStats.ast_min_val:\n",
    "        assists = LeagueStats.ast_min_val\n",
    "\n",
    "    if p3_ratio >= LeagueStats.good_shooter_minimum_ratio and p3_in >= LeagueStats.good_shooter_minimum_3p:\n",
    "        p3_multiplier = LeagueStats.good_shooter_3p_multiplier\n",
    "    else:\n",
    "        p3_multiplier = 3\n",
    "\n",
    "    z1 = 3 * p3_league_attack_ratio * ((p3_league_ratio + LeagueStats.stl_p3) ** 2) + 2 * p2_league_attack_ratio * (\n",
    "            (p2_league_ratio + LeagueStats.stl_p2) ** 2) + 2 * (\n",
    "                 ft_league_ratio ** 2) * ft_league_attack_ratio - LeagueStats.block_chance * (\n",
    "                 3 * LeagueStats.p3_league_attack_ratio * (\n",
    "                 LeagueStats.p3_league_ratio ** 2) + 2 * LeagueStats.p2_league_attack_ratio * (\n",
    "                         p2_league_ratio ** 2))\n",
    "    z2 = 3 * p3_league_attack_ratio * ((p3_league_ratio + LeagueStats.tov_p3) ** 2) + 2 * p2_league_attack_ratio * (\n",
    "            (p2_league_ratio + LeagueStats.tov_p2) ** 2) + 2 * (\n",
    "                 ft_league_ratio ** 2) * ft_league_attack_ratio - LeagueStats.block_chance * (\n",
    "                 3 * LeagueStats.p3_league_attack_ratio * (\n",
    "                 LeagueStats.p3_league_ratio ** 2) + 2 * LeagueStats.p2_league_attack_ratio * (\n",
    "                         p2_league_ratio ** 2))\n",
    "\n",
    "    tov_value = (z2 - LeagueStats.stl_chance * z1) / (1 + LeagueStats.tov_chance * LeagueStats.stl_chance)\n",
    "\n",
    "    stl_value = z1 - LeagueStats.tov_chance * tov_value\n",
    "    assist_val = 0.66 * (\n",
    "            3 * LeagueStats.p3_league_ratio * LeagueStats.p3_league_attack_from_assist_ratio + 2 * LeagueStats.p2_league_ratio * LeagueStats.p2_league_attack_from_assist_ratio)\n",
    "    d_rebound_val = 3 * p3_league_attack_ratio * (p3_league_ratio ** 2) + 2 * p2_league_attack_ratio * (\n",
    "            p2_league_ratio ** 2) + 2 * ft_league_ratio * (\n",
    "                            ft_league_attack_ratio ** 2) - LeagueStats.block_chance * (\n",
    "                            3 * LeagueStats.p3_league_attack_ratio * (\n",
    "                            LeagueStats.p3_league_ratio ** 2) + 2 * LeagueStats.p2_league_attack_ratio * (\n",
    "                                    LeagueStats.p2_league_ratio ** 2)) - LeagueStats.tov_chance * tov_value\n",
    "    off_rebound_val = 3 * p3_league_attack_ratio * (\n",
    "            (p3_league_ratio + LeagueStats.orb_p3) ** 2) + 2 * p2_league_attack_ratio * (\n",
    "                              (p2_league_ratio + LeagueStats.orb_p2) ** 2) + 2 * (\n",
    "                              ft_league_ratio ** 2) * ft_league_attack_ratio - LeagueStats.block_chance * (\n",
    "                              3 * LeagueStats.p3_league_attack_ratio * (\n",
    "                              LeagueStats.p3_league_ratio ** 2) + 2 * LeagueStats.p2_league_attack_ratio * (\n",
    "                                      LeagueStats.p2_league_ratio ** 2)) - LeagueStats.tov_chance * tov_value\n",
    "    block_val = 0.57 * d_rebound_val\n",
    "\n",
    "    total = p3_multiplier * p3_in * p3_ratio + 2 * p2_in * p2_ratio + 1 * ft_in * ft_ratio + assist_val * assists + d_rebound_val * d_rebounds + off_rebound_val * off_rebound + stl_value * steals + block_val * blocks - tov_value * (\n",
    "            turnovers - LeagueStats.ast_tov_ratio * assists) - (\n",
    "                    3 * p3_on_me * p3_ratio_on_me + 2 * p2_on_me * p2_ratio_on_me + 1 * ft_on_me * ft_ratio_on_me)\n",
    "\n",
    "    return total"
   ]
  },
  {
   "cell_type": "markdown",
   "metadata": {},
   "source": [
    "Add scores to tables"
   ]
  },
  {
   "cell_type": "code",
   "execution_count": 14,
   "metadata": {},
   "outputs": [],
   "source": [
    "df_season['score2'] = df_season.apply(calc_score, axis=1)\n",
    "df_playoffs['score2'] = df_playoffs.apply(calc_score, axis=1)"
   ]
  }
 ],
 "metadata": {
  "kernelspec": {
   "display_name": "Python 3 (ipykernel)",
   "language": "python",
   "name": "python3"
  },
  "language_info": {
   "codemirror_mode": {
    "name": "ipython",
    "version": 3
   },
   "file_extension": ".py",
   "mimetype": "text/x-python",
   "name": "python",
   "nbconvert_exporter": "python",
   "pygments_lexer": "ipython3",
   "version": "3.9.6"
  }
 },
 "nbformat": 4,
 "nbformat_minor": 1
}